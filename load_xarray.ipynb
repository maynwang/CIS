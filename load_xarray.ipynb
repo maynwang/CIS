{
 "cells": [
  {
   "cell_type": "code",
   "execution_count": 4,
   "metadata": {},
   "outputs": [],
   "source": [
    "# import modules that we need\n",
    "from pathlib import Path  # makes handling of paths and file names easier\n",
    "import matplotlib.pyplot as plt\n",
    "import xarray as xr       # convenient for reading NetCDF files and preserving metadata\n",
    "import numpy as np\n",
    "\n",
    "# input data directory\n",
    "fname = Path('/extra-space1/data/tikoralukupload/cis-weekly/nc/HB.nc')\n"
   ]
  },
  {
   "cell_type": "markdown",
   "metadata": {},
   "source": [
    "## Read Data\n",
    "Here we use the [`xarray`](http://xarray.pydata.org/en/stable/) package that is very convienient to read NetCDF files because it preserves the data structure."
   ]
  },
  {
   "cell_type": "code",
   "execution_count": 5,
   "metadata": {
    "scrolled": true
   },
   "outputs": [
    {
     "name": "stdout",
     "output_type": "stream",
     "text": [
      "<xarray.Dataset>\n",
      "Dimensions:    (juld: 1043, x: 2654, y: 2595)\n",
      "Coordinates:\n",
      "  * x          (x) float64 3.45e+04 3.55e+04 3.65e+04 ... 2.686e+06 2.688e+06\n",
      "  * y          (y) float64 3.76e+06 3.758e+06 3.758e+06 ... 1.166e+06 1.166e+06\n",
      "  * juld       (juld) datetime64[ns] 1997-01-01 1997-02-01 ... 2020-10-26\n",
      "Data variables:\n",
      "    crs        int32 ...\n",
      "    land       (y, x) float64 ...\n",
      "    longitude  (y, x) float32 ...\n",
      "    latitude   (y, x) float32 ...\n",
      "    E_CA       (juld, y, x) float64 ...\n",
      "    E_CB       (juld, y, x) float64 ...\n",
      "    E_CC       (juld, y, x) float64 ...\n",
      "    E_CD       (juld, y, x) float64 ...\n",
      "    E_CT       (juld, y, x) float64 ...\n",
      "    E_FA       (juld, y, x) float64 ...\n",
      "    E_FB       (juld, y, x) float64 ...\n",
      "    E_FC       (juld, y, x) float64 ...\n",
      "    E_FD       (juld, y, x) float64 ...\n",
      "    E_FE       (juld, y, x) float64 ...\n",
      "    E_SA       (juld, y, x) float64 ...\n",
      "    E_SB       (juld, y, x) float64 ...\n",
      "    E_SC       (juld, y, x) float64 ...\n",
      "    E_SD       (juld, y, x) float64 ...\n",
      "    E_SE       (juld, y, x) float64 ...\n",
      "    E_SO       (juld, y, x) float64 ...\n",
      "    N_CB       (juld, y, x) float64 ...\n",
      "    N_CFY      (juld, y, x) float64 ...\n",
      "    N_CFY_M    (juld, y, x) float64 ...\n",
      "    N_CFY_TK   (juld, y, x) float64 ...\n",
      "    N_CFY_TN   (juld, y, x) float64 ...\n",
      "    N_CG       (juld, y, x) float64 ...\n",
      "    N_CGW      (juld, y, x) float64 ...\n",
      "    N_CM       (juld, y, x) float64 ...\n",
      "    N_CMY      (juld, y, x) float64 ...\n",
      "    N_CN       (juld, y, x) float64 ...\n",
      "    N_COI      (juld, y, x) float64 ...\n",
      "    N_CSY      (juld, y, x) float64 ...\n",
      "    N_CT       (juld, y, x) float64 ...\n",
      "    N_CTK      (juld, y, x) float64 ...\n",
      "    N_CTN      (juld, y, x) float64 ...\n",
      "    N_CVTK     (juld, y, x) float64 ...\n",
      "    N_CYI      (juld, y, x) float64 ...\n"
     ]
    }
   ],
   "source": [
    "### Load data into a `xarray.Dataset`:\n",
    "# Note that the data is loaded lazily which means that no actual data are actually written\n",
    "# into memory.\n",
    "ds = xr.open_dataset(fname)\n",
    "\n",
    "# See what the data look like\n",
    "print(ds)"
   ]
  },
  {
   "cell_type": "markdown",
   "metadata": {},
   "source": [
    "As we can see, the dataset `ds` has three dimensions with coordinates `x`, `y`, and `juld`. Furthermore, the data variables contain information which coordinates their dimensions belong to.\n",
    "\n",
    "### Subsetting\n",
    "The dimensions and coordinates make it very easy to subset your data. There are two methods:\n",
    "\n",
    "#### By Coordinate\n",
    "Since the coordinates are retained for each variable we can use them to subset the dataset. In this case you would use the `.sel()` method. Let's assume you wanted to choose all data where `x` is between 1.0e6 and 1.5e6 m and `y` is less or equal 2.5e6 m, you would write\n",
    "```\n",
    "ds = ds.sel(x=slice(1.0e6, 1.5e6), y=slice(None, 2.5e6))\n",
    "```\n",
    "\n",
    "#### By Index\n",
    "This method is similar to the conventional subsetting of `numpy` arrays, but makes use of the dimension names. To select your data based on the indexes, you should use the `.isel()` method. For example, we are now selecting all data where the index of the `x` dimension is greater that 1700 and the index of the `y` dimension is between 600 and 1450:"
   ]
  },
  {
   "cell_type": "code",
   "execution_count": 6,
   "metadata": {},
   "outputs": [],
   "source": [
    "# subset `xarray.Dataset` by index\n",
    "ds = ds.isel(x=slice(1700, None), y=slice(600, 1450))\n",
    "\n",
    "# Note that this subsets the entire dataset and therefore, you only have to do it once for all variables."
   ]
  },
  {
   "cell_type": "markdown",
   "metadata": {},
   "source": [
    "To select one of the variables, you can either use the \"dot notation\", i.e., `ds.<name>` or treat `ds` like a `dict` and select the variables using brackets, i.e., `ds[<name>]`. Here, `<name>` is the name of the variable in the `xr.Dataset`."
   ]
  },
  {
   "cell_type": "code",
   "execution_count": 7,
   "metadata": {},
   "outputs": [
    {
     "name": "stdout",
     "output_type": "stream",
     "text": [
      "<xarray.DataArray 'E_CT' (juld: 1043, y: 850, x: 954)>\n",
      "[845768700 values with dtype=float64]\n",
      "Coordinates:\n",
      "  * x        (x) float64 1.734e+06 1.736e+06 1.736e+06 ... 2.686e+06 2.688e+06\n",
      "  * y        (y) float64 3.16e+06 3.158e+06 3.158e+06 ... 2.312e+06 2.31e+06\n",
      "  * juld     (juld) datetime64[ns] 1997-01-01 1997-02-01 ... 2020-10-26\n",
      "Attributes:\n",
      "    units:         [{\"raster_value\": \"0\", \"column_value\": \"0\", \"quantitative_...\n",
      "    long_name:     Ct: Total concentration\n",
      "    grid_mapping:  crs\n"
     ]
    }
   ],
   "source": [
    "# variable name\n",
    "vname = 'E_CT'\n",
    "\n",
    "# create shortcuts to the variables\n",
    "lon = ds.longitude\n",
    "lat = ds.latitude\n",
    "# juld = ds.juld\n",
    "land = ds.land\n",
    "E_CT = ds[vname]\n",
    "\n",
    "# Note that I chose the bracket notation for the last variable and used a variable `vname`\n",
    "# to specify which field we want to look at. This makes the code more flexible as we could\n",
    "# define a list of names that we can loop through to run the same analysis systematically\n",
    "# for multiple variables.\n",
    "\n",
    "# Let's have a look:\n",
    "print(E_CT)"
   ]
  },
  {
   "cell_type": "markdown",
   "metadata": {},
   "source": [
    "The variable `E_CT` is now a `xarray.DataArray`. Think of it as a `numpy` array, but the dimensions have the coordinates preserved. As you can see, it also has kept all the attributes from the original input file. Although the array has all the additional information it behaves like a `numpy` array. This just demonstrates the benefit of using the `xarray` package. The `.sel()` and `.isel()` methods that we applied to the whole `xarray.Dataset` above can also be applied to a `xarray.DataArray`.\n",
    "\n",
    "If you are not convinced yet, here is a bonus: `xarray` comes with its own plotting routines (that use `matplotlib` under the hood)"
   ]
  },
  {
   "cell_type": "code",
   "execution_count": 13,
   "metadata": {},
   "outputs": [
    {
     "data": {
      "text/plain": [
       "<matplotlib.collections.QuadMesh at 0x7f577c5079d0>"
      ]
     },
     "execution_count": 13,
     "metadata": {},
     "output_type": "execute_result"
    },
    {
     "data": {
      "image/png": "[encoded data removed]",
      "text/plain": [
       "<Figure size 864x576 with 2 Axes>"
      ]
     },
     "metadata": {
      "needs_background": "light"
     },
     "output_type": "display_data"
    }
   ],
   "source": [
    "# plot the land/sea mask variable `land`\n",
    "plt.figure(figsize=((12, 8)))\n",
    "land.plot()"
   ]
  },
  {
   "cell_type": "markdown",
   "metadata": {},
   "source": [
    "Since the variable `land` is has two dimensions, `xarray` automatically calls the `pcolormesh` function from the `matplotlib` package and and the embedded coordinate information (including the units) is used to specify the axes of the plot. Because of the stored attribute `long_name`, it also knows what data is actually stored in the variable. This information is used as a label for the colorbar.\n",
    "\n",
    "We could have been more specific in the plotting command, but this is just is just a demonstration of the powerful features of `xarray` to make quick plots to check your data. "
   ]
  },
  {
   "cell_type": "markdown",
   "metadata": {},
   "source": [
    "## Take an average along one dimension\n"
   ]
  },
  {
   "cell_type": "code",
   "execution_count": 11,
   "metadata": {},
   "outputs": [
    {
     "name": "stderr",
     "output_type": "stream",
     "text": [
      "<ipython-input-11-2ffc51c9cbc1>:1: RuntimeWarning: Mean of empty slice\n",
      "  ybar = np.nanmean(E_CT, axis=0) # along time dimension which is the 0th dimension\n"
     ]
    },
    {
     "data": {
      "text/plain": [
       "<matplotlib.contour.QuadContourSet at 0x7f913295a730>"
      ]
     },
     "execution_count": 11,
     "metadata": {},
     "output_type": "execute_result"
    },
    {
     "data": {
      "image/png": "[encoded data removed]",
      "text/plain": [
       "<Figure size 432x288 with 1 Axes>"
      ]
     },
     "metadata": {
      "needs_background": "light"
     },
     "output_type": "display_data"
    }
   ],
   "source": [
    "ybar = np.nanmean(E_CT, axis=0) # along time dimension which is the 0th dimension\n",
    "plt.contourf(lon, lat, ybar)"
   ]
  }
 ],
 "metadata": {
  "kernelspec": {
   "display_name": "Python 3",
   "language": "python",
   "name": "python3"
  },
  "language_info": {
   "codemirror_mode": {
    "name": "ipython",
    "version": 3
   },
   "file_extension": ".py",
   "mimetype": "text/x-python",
   "name": "python",
   "nbconvert_exporter": "python",
   "pygments_lexer": "ipython3",
   "version": "3.9.1"
  }
 },
 "nbformat": 4,
 "nbformat_minor": 5
}
