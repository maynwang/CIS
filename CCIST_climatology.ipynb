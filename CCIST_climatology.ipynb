{
 "cells": [
  {
   "cell_type": "code",
   "execution_count": 1,
   "metadata": {},
   "outputs": [],
   "source": [
    "'''\n",
    "    Make CCISST climatology\n",
    "'''\n",
    "\n",
    "import numpy as np\n",
    "import matplotlib as mpl\n",
    "from matplotlib import pyplot as plt\n",
    "import mpl_toolkits.basemap as bm\n",
    "from netCDF4 import Dataset\n",
    "from scipy import io\n",
    "import os\n",
    "import ecoliver as ecj"
   ]
  },
  {
   "cell_type": "code",
   "execution_count": 2,
   "metadata": {},
   "outputs": [],
   "source": [
    "# File location\n",
    "dataheader = '/home/oliver/data/sst/CoralTemp/'\n",
    "path = '/home/mwang/results/'\n",
    "\n",
    "# Load in coordinates\n",
    "nc = Dataset(dataheader + '1985/coraltemp_v1.0_19850101.nc')\n",
    "lon = nc.variables['lon'][:]\n",
    "lat = nc.variables['lat'][:]\n",
    "nc.close()\n",
    "\n",
    "# Domain of interest\n",
    "lon1 = -67.\n",
    "lon2 = -51.\n",
    "lat1 = 49.\n",
    "lat2 = 63.\n",
    "\n",
    "# lon1 = -51.\n",
    "# lon2 = -50.\n",
    "# lat1 = 59.\n",
    "# lat2 = 60.\n",
    "\n",
    "ii = (lon>=lon1) * (lon<=lon2)\n",
    "jj = (lat>=lat1) * (lat<=lat2)\n",
    "lon = lon[ii]\n",
    "lat = lat[jj]\n",
    "llon, llat = np.meshgrid(lon, lat)\n",
    "X = len(lon)\n",
    "Y = len(lat)\n",
    "M = 12 # Number of months"
   ]
  },
  {
   "cell_type": "code",
   "execution_count": 44,
   "metadata": {},
   "outputs": [],
   "source": [
    "#\n",
    "# Time series\n",
    "#\n",
    "\n",
    "# Time and dates\n",
    "t, dates, T, year, month, day, doy = ecj.timevector([1985,1,1], [2019,12,31])\n",
    "\n",
    "# Initialise fields\n",
    "sst = np.zeros((Y, X, T))\n",
    "c = np.zeros((Y, X, T))\n",
    "# t = np.zeros((Y, X, T))"
   ]
  },
  {
   "cell_type": "code",
   "execution_count": null,
   "metadata": {},
   "outputs": [],
   "source": [
    "# Load in each year and contribute to average\n",
    "for tt in range(T):\n",
    "    print(dates[tt])\n",
    "    nc = Dataset(dataheader + str(year[tt]) + '/coraltemp_v1.0_' + str(year[tt]) + str(month[tt]).zfill(2) + str(day[tt]).zfill(2) + '.nc')\n",
    "    SST = nc.variables['analysed_sst'][0,:,ii][jj,:]\n",
    "    C = nc.variables['sea_ice_fraction'][0,:,ii][jj,:]\n",
    "    nc.close()\n",
    "    sst[:,:,tt] = SST\n",
    "    c[:,:,tt] = C\n",
    "#     t[:,:,tt] = t\n",
    "    #m = month[tt] - 1\n",
    "    #sst[:,:,m] += SST\n",
    "    #c[:,:,m] += C\n",
    "    #N[:,:,m] += 1.\n",
    "\n",
    "# Mask\n",
    "sst[sst == sst.min()] = np.nan\n",
    "c[c<0] = np.nan\n",
    "\n",
    "# Save data\n",
    "np.savez(path + 'CCI_Labrador.npz', lon=lon, lat=lat, sst=sst, c=c, t=t, dates=dates)"
   ]
  },
  {
   "cell_type": "code",
   "execution_count": 45,
   "metadata": {},
   "outputs": [],
   "source": [
    "# Load data -- add time\n",
    "data = np.load(dataheader + 'CCI_Labrador.npz')  \n",
    "sst = data['sst']\n",
    "c = data['c']\n",
    "t = data['t']\n",
    "#\n",
    "# Make climatology and trends\n",
    "#"
   ]
  },
  {
   "cell_type": "code",
   "execution_count": 46,
   "metadata": {},
   "outputs": [
    {
     "name": "stderr",
     "output_type": "stream",
     "text": [
      "<ipython-input-46-ee9eda5340d2>:7: RuntimeWarning: Mean of empty slice\n",
      "  sst_clim[:,:,m] = np.nanmean(sst[:,:,tt], axis=2)\n"
     ]
    },
    {
     "ename": "IndexError",
     "evalue": "too many indices for array: array is 1-dimensional, but 3 were indexed",
     "output_type": "error",
     "traceback": [
      "\u001b[0;31m---------------------------------------------------------------------------\u001b[0m",
      "\u001b[0;31mIndexError\u001b[0m                                Traceback (most recent call last)",
      "\u001b[0;32m<ipython-input-46-ee9eda5340d2>\u001b[0m in \u001b[0;36m<module>\u001b[0;34m\u001b[0m\n\u001b[1;32m      7\u001b[0m     \u001b[0msst_clim\u001b[0m\u001b[0;34m[\u001b[0m\u001b[0;34m:\u001b[0m\u001b[0;34m,\u001b[0m\u001b[0;34m:\u001b[0m\u001b[0;34m,\u001b[0m\u001b[0mm\u001b[0m\u001b[0;34m]\u001b[0m \u001b[0;34m=\u001b[0m \u001b[0mnp\u001b[0m\u001b[0;34m.\u001b[0m\u001b[0mnanmean\u001b[0m\u001b[0;34m(\u001b[0m\u001b[0msst\u001b[0m\u001b[0;34m[\u001b[0m\u001b[0;34m:\u001b[0m\u001b[0;34m,\u001b[0m\u001b[0;34m:\u001b[0m\u001b[0;34m,\u001b[0m\u001b[0mtt\u001b[0m\u001b[0;34m]\u001b[0m\u001b[0;34m,\u001b[0m \u001b[0maxis\u001b[0m\u001b[0;34m=\u001b[0m\u001b[0;36m2\u001b[0m\u001b[0;34m)\u001b[0m\u001b[0;34m\u001b[0m\u001b[0;34m\u001b[0m\u001b[0m\n\u001b[1;32m      8\u001b[0m     \u001b[0mc_clim\u001b[0m\u001b[0;34m[\u001b[0m\u001b[0;34m:\u001b[0m\u001b[0;34m,\u001b[0m\u001b[0;34m:\u001b[0m\u001b[0;34m,\u001b[0m\u001b[0mm\u001b[0m\u001b[0;34m]\u001b[0m \u001b[0;34m=\u001b[0m \u001b[0mnp\u001b[0m\u001b[0;34m.\u001b[0m\u001b[0mnanmean\u001b[0m\u001b[0;34m(\u001b[0m\u001b[0mc\u001b[0m\u001b[0;34m[\u001b[0m\u001b[0;34m:\u001b[0m\u001b[0;34m,\u001b[0m\u001b[0;34m:\u001b[0m\u001b[0;34m,\u001b[0m\u001b[0mtt\u001b[0m\u001b[0;34m]\u001b[0m\u001b[0;34m,\u001b[0m \u001b[0maxis\u001b[0m\u001b[0;34m=\u001b[0m\u001b[0;36m2\u001b[0m\u001b[0;34m)\u001b[0m\u001b[0;34m\u001b[0m\u001b[0;34m\u001b[0m\u001b[0m\n\u001b[0;32m----> 9\u001b[0;31m     \u001b[0mt_clim\u001b[0m\u001b[0;34m[\u001b[0m\u001b[0;34m:\u001b[0m\u001b[0;34m,\u001b[0m\u001b[0;34m:\u001b[0m\u001b[0;34m,\u001b[0m\u001b[0mm\u001b[0m\u001b[0;34m]\u001b[0m \u001b[0;34m=\u001b[0m \u001b[0mnp\u001b[0m\u001b[0;34m.\u001b[0m\u001b[0mnanmean\u001b[0m\u001b[0;34m(\u001b[0m\u001b[0mt\u001b[0m\u001b[0;34m[\u001b[0m\u001b[0;34m:\u001b[0m\u001b[0;34m,\u001b[0m\u001b[0;34m:\u001b[0m\u001b[0;34m,\u001b[0m\u001b[0mtt\u001b[0m\u001b[0;34m]\u001b[0m\u001b[0;34m,\u001b[0m \u001b[0maxis\u001b[0m\u001b[0;34m=\u001b[0m\u001b[0;36m2\u001b[0m\u001b[0;34m)\u001b[0m\u001b[0;34m\u001b[0m\u001b[0;34m\u001b[0m\u001b[0m\n\u001b[0m",
      "\u001b[0;31mIndexError\u001b[0m: too many indices for array: array is 1-dimensional, but 3 were indexed"
     ]
    }
   ],
   "source": [
    "# Climatology\n",
    "sst_clim = np.zeros((Y, X, M))\n",
    "c_clim = np.zeros((Y, X, M))\n",
    "for m in range(12):\n",
    "    tt = month == m+1\n",
    "    sst_clim[:,:,m] = np.nanmean(sst[:,:,tt], axis=2)\n",
    "    c_clim[:,:,m] = np.nanmean(c[:,:,tt], axis=2)"
   ]
  },
  {
   "cell_type": "code",
   "execution_count": null,
   "metadata": {},
   "outputs": [],
   "source": [
    "# Trends\n",
    "sst_tr = np.zeros((Y, X, M))\n",
    "c_tr = np.zeros((Y, X, M))\n",
    "for j in range(Y):\n",
    "    print(j+1, Y)\n",
    "    for i in range(X):\n",
    "        for m in range(12):\n",
    "            tt = month == m+1\n",
    "            sst_tr[j,i,m] = ecj.trend(t[tt], sst[j,i,tt])[1]*365.25*10 # deg C / decade\n",
    "            c_tr[j,i,m] = ecj.trend(t[tt], c[j,i,tt])[1]*365.25*10 # fraction / decade"
   ]
  },
  {
   "cell_type": "code",
   "execution_count": null,
   "metadata": {},
   "outputs": [],
   "source": [
    "# Differences\n",
    "tt1 = (year >= 1985) * (year <= 1999)\n",
    "tt2 = (year >= 2005) * (year <= 2019)\n",
    "sst_diff = np.zeros((Y, X, M))\n",
    "c_diff = np.zeros((Y, X, M))\n",
    "for m in range(12):\n",
    "    ttm = month == m+1\n",
    "    tt1m = tt1 * ttm\n",
    "    tt2m = tt2 * ttm\n",
    "    sst_diff[:,:,m] = np.nanmean(sst[:,:,tt2m], axis=2) - np.nanmean(sst[:,:,tt1m], axis=2)\n",
    "    c_diff[:,:,m] = np.nanmean(c[:,:,tt2m], axis=2) - np.nanmean(c[:,:,tt1m], axis=2)\n",
    "\n",
    "# Apply mask to ice concentration\n",
    "for m in range(12):\n",
    "    tmp = c_clim[:,:,m]\n",
    "    tmp[np.isnan(sst_clim[:,:,m])] = np.nan\n",
    "    c_clim[:,:,m] = tmp\n",
    "    tmp = c_tr[:,:,m]\n",
    "    tmp[np.isnan(sst_tr[:,:,m])] = np.nan\n",
    "    c_tr[:,:,m] = tmp\n",
    "    tmp = c_diff[:,:,m]\n",
    "    tmp[np.isnan(sst_diff[:,:,m])] = np.nan\n",
    "    c_diff[:,:,m] = tmp\n",
    "\n",
    "#c[c == c.min()] = np.nan\n",
    "#c[c < 0] = np.nan\n",
    "\n",
    "np.savez(path + 'CCI_Climatology_1985_2019.npz', lon=lon, lat=lat, sst_clim=sst_clim, c_clim=c_clim, sst_tr=sst_tr, c_tr=c_tr, sst_diff=sst_diff, c_diff=c_diff)"
   ]
  }
 ],
 "metadata": {
  "kernelspec": {
   "display_name": "Python 3",
   "language": "python",
   "name": "python3"
  },
  "language_info": {
   "codemirror_mode": {
    "name": "ipython",
    "version": 3
   },
   "file_extension": ".py",
   "mimetype": "text/x-python",
   "name": "python",
   "nbconvert_exporter": "python",
   "pygments_lexer": "ipython3",
   "version": "3.9.1"
  }
 },
 "nbformat": 4,
 "nbformat_minor": 4
}
