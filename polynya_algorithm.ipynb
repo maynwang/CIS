{
 "cells": [
  {
   "cell_type": "code",
   "execution_count": 1,
   "metadata": {},
   "outputs": [],
   "source": [
    "import numpy as np \n",
    "import cmocean\n",
    "from scipy import ndimage\n",
    "from netCDF4 import Dataset\n",
    "import glob\n",
    "import matplotlib.pyplot as plt\n",
    "import cartopy\n",
    "import cartopy.crs as ccrs\n",
    "import datetime \n",
    "from datetime import date \n",
    "import mpl_toolkits.basemap as bm\n",
    "import matplotlib.animation as animation\n",
    "import numpy.ma as ma\n",
    "import matplotlib.cm as cm\n",
    "from matplotlib.patches import Polygon\n",
    "from scipy import signal, stats\n",
    "import time\n",
    "from mpl_toolkits.axes_grid1 import make_axes_locatable\n",
    "import warnings; warnings.simplefilter('ignore')\n",
    "\n",
    "from functions import load_ice, trend, find_trends, plot_cartopy, decomp\n",
    "\n",
    "\n",
    "path = '/extra-space1/data/tikoralukupload/cis-weekly/nc/'\n",
    "region = 'EC'\n",
    "\n",
    "# Projection for mapping\n",
    "rot = ccrs.RotatedPole(pole_latitude=55,pole_longitude=150)\n",
    "\n",
    "# Read in data\n",
    "nc = Dataset(path + region + '.nc', 'r')\n",
    "lon = nc.variables['longitude'][:1200,:1500]\n",
    "lat = nc.variables['latitude'][:1200,:1500]\n",
    "juld = nc.variables['juld'][:]\n",
    "land = nc.variables['land'][:1200,:1500]\n",
    "E_CT = nc.variables['E_CT'][:][:,:1200,:1500]\n",
    "\n",
    "# Date time information\n",
    "d0ord = date(1950,1,1).toordinal()\n",
    "dt_ordinal = d0ord + juld\n",
    "dates = [date.fromordinal(dt_ordinal[tt]) for tt in range(len(juld))]\n",
    "months = [dates[tt].month for tt in range(len(juld))]\n",
    "years = [dates[tt].year for tt in range(len(juld))]\n",
    "months_unique = np.unique(months)\n",
    "years_unique = np.unique(years)"
   ]
  },
  {
   "cell_type": "code",
   "execution_count": 2,
   "metadata": {},
   "outputs": [],
   "source": [
    "# Set ocean values to 0\n",
    "E_CT_masked = E_CT.copy()\n",
    "E_CT_masked[E_CT_masked.mask == True] = 0\n",
    "# Make land array same shape as data\n",
    "land3d = np.repeat(land[np.newaxis, :, :], len(E_CT), axis=0)\n",
    "# mask out land using land array\n",
    "masked_array = np.ma.masked_array(E_CT_masked, land3d)\n",
    "masked_array.filled(fill_value=255)"
   ]
  },
  {
   "cell_type": "code",
   "execution_count": null,
   "metadata": {
    "scrolled": true
   },
   "outputs": [],
   "source": [
    "plt.contourf(masked_array)"
   ]
  },
  {
   "cell_type": "code",
   "execution_count": null,
   "metadata": {},
   "outputs": [],
   "source": [
    "np.unique(masked_array)"
   ]
  },
  {
   "cell_type": "code",
   "execution_count": 51,
   "metadata": {
    "scrolled": true
   },
   "outputs": [
    {
     "name": "stdout",
     "output_type": "stream",
     "text": [
      "hello\n",
      "[[1 1 1 ... 1 1 1]\n",
      " [1 1 1 ... 1 1 1]\n",
      " [1 1 1 ... 1 1 1]\n",
      " ...\n",
      " [1 1 1 ... 0 0 0]\n",
      " [1 1 1 ... 0 0 0]\n",
      " [1 1 1 ... 0 0 0]]\n"
     ]
    },
    {
     "ename": "ValueError",
     "evalue": "cannot convert float NaN to integer",
     "output_type": "error",
     "traceback": [
      "\u001b[0;31m---------------------------------------------------------------------------\u001b[0m",
      "\u001b[0;31mValueError\u001b[0m                                Traceback (most recent call last)",
      "\u001b[0;32m<ipython-input-51-41a9bfd077d6>\u001b[0m in \u001b[0;36m<module>\u001b[0;34m\u001b[0m\n\u001b[1;32m     46\u001b[0m \u001b[0;34m\u001b[0m\u001b[0m\n\u001b[1;32m     47\u001b[0m                         \u001b[0;31m# create arrays of lon/lat indices. Index them as lon[j,i]\u001b[0m\u001b[0;34m\u001b[0m\u001b[0;34m\u001b[0m\u001b[0;34m\u001b[0m\u001b[0m\n\u001b[0;32m---> 48\u001b[0;31m                         \u001b[0mi_cen_arr\u001b[0m \u001b[0;34m=\u001b[0m \u001b[0mnp\u001b[0m\u001b[0;34m.\u001b[0m\u001b[0mappend\u001b[0m\u001b[0;34m(\u001b[0m\u001b[0mi_cen_arr\u001b[0m\u001b[0;34m,\u001b[0m \u001b[0mnp\u001b[0m\u001b[0;34m.\u001b[0m\u001b[0mround\u001b[0m\u001b[0;34m(\u001b[0m\u001b[0mint\u001b[0m\u001b[0;34m(\u001b[0m\u001b[0mi_cen\u001b[0m\u001b[0;34m)\u001b[0m\u001b[0;34m)\u001b[0m\u001b[0;34m)\u001b[0m\u001b[0;34m\u001b[0m\u001b[0;34m\u001b[0m\u001b[0m\n\u001b[0m\u001b[1;32m     49\u001b[0m                         \u001b[0mj_cen_arr\u001b[0m \u001b[0;34m=\u001b[0m \u001b[0mnp\u001b[0m\u001b[0;34m.\u001b[0m\u001b[0mappend\u001b[0m\u001b[0;34m(\u001b[0m\u001b[0mj_cen_arr\u001b[0m\u001b[0;34m,\u001b[0m \u001b[0mnp\u001b[0m\u001b[0;34m.\u001b[0m\u001b[0mround\u001b[0m\u001b[0;34m(\u001b[0m\u001b[0mint\u001b[0m\u001b[0;34m(\u001b[0m\u001b[0mj_cen\u001b[0m\u001b[0;34m)\u001b[0m\u001b[0;34m)\u001b[0m\u001b[0;34m)\u001b[0m\u001b[0;34m\u001b[0m\u001b[0;34m\u001b[0m\u001b[0m\n\u001b[1;32m     50\u001b[0m \u001b[0;34m\u001b[0m\u001b[0m\n",
      "\u001b[0;31mValueError\u001b[0m: cannot convert float NaN to integer"
     ]
    }
   ],
   "source": [
    "days = [1586, 1587, 1588, 1589]\n",
    "\n",
    "day = 1586\n",
    "\n",
    "# for day in days:\n",
    "\n",
    "field = masked_array[day].data\n",
    "\n",
    "# Range of concentration limits\n",
    "ssh_crits = np.arange(0,5,1)\n",
    "i_cen_arr = []\n",
    "j_cen_arr = []\n",
    "area_polynyas = []\n",
    "\n",
    "for ssh_crit in ssh_crits:\n",
    "\tregions, nregions = ndimage.label( (field<ssh_crit).astype(int) )\n",
    "\tfor iregion in range(nregions):\n",
    "\n",
    "\t\t# 1. set size min/max\n",
    "\t\t# must be at least Npix_min pixels\n",
    "\t\tNpix_min = 30\n",
    "\t\tNpix_max = 99999999999\n",
    "\t\tregion = (regions==iregion+1).astype(int)\n",
    "\t\tregion_Npix = region.sum()\n",
    "\t\t# Is polynya area within size limits T/F\n",
    "\t\tpolynya_area_within_limits = ((region_Npix >= Npix_min) * (region_Npix <= Npix_max))\t\t\t\n",
    "\n",
    "\t\t# 2. crit 2\n",
    "\t\tcrit2result = True\n",
    "\t\t# 3. crit 3\n",
    "\t\tcrit3result = True\n",
    "\n",
    "\t\t# Quit loop if these are not satisfied\n",
    "\t\tif np.logical_not(polynya_area_within_limits * crit2result * crit3result ):\n",
    "\t\t\tp = 0\n",
    "\t\t\tcontinue\n",
    "\n",
    "\t\tif (polynya_area_within_limits * crit2result * crit3result ):\n",
    "\n",
    "\t\t\t# save the location of the centre of the polynya\n",
    "\t\t\tpolynya_object_with_mass = field * region\n",
    "\t\t\tpolynya_object_with_mass[np.isnan(polynya_object_with_mass)] = 0\n",
    "\t\t\tj_cen, i_cen = ndimage.center_of_mass(polynya_object_with_mass)\n",
    "\n",
    "\t\t\t# create arrays of lon/lat indices. Index them as lon[j,i]\n",
    "\t\t\ti_cen_arr = np.append(i_cen_arr, np.round(int(i_cen)))\n",
    "\t\t\tj_cen_arr = np.append(j_cen_arr, np.round(int(j_cen)))\n",
    "\n",
    "\t\t\tarea = region_Npix  # [km**2]\n",
    "\t\t\tarea_polynyas = np.append(area_polynyas, area)   \n",
    "\n",
    "\n",
    "plt.figure()\n",
    "plt.contourf(lon, lat, field)\n",
    "plt.plot(lon[j_cen_arr], lat[i_cen_arr])"
   ]
  }
 ],
 "metadata": {
  "kernelspec": {
   "display_name": "Python 3",
   "language": "python",
   "name": "python3"
  },
  "language_info": {
   "codemirror_mode": {
    "name": "ipython",
    "version": 3
   },
   "file_extension": ".py",
   "mimetype": "text/x-python",
   "name": "python",
   "nbconvert_exporter": "python",
   "pygments_lexer": "ipython3",
   "version": "3.9.1"
  }
 },
 "nbformat": 4,
 "nbformat_minor": 4
}
