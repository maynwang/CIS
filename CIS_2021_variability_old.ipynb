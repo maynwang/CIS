{
 "cells": [
  {
   "cell_type": "markdown",
   "metadata": {},
   "source": [
    "Load data"
   ]
  },
  {
   "cell_type": "code",
   "execution_count": 30,
   "metadata": {
    "scrolled": true
   },
   "outputs": [],
   "source": [
    "import numpy as np \n",
    "import cmocean\n",
    "import cmocean.cm as cmo\n",
    "import xarray as xr   \n",
    "from pathlib import Path\n",
    "from netCDF4 import Dataset\n",
    "import glob\n",
    "import matplotlib.pyplot as plt\n",
    "import cartopy\n",
    "import cartopy.crs as ccrs\n",
    "import datetime \n",
    "from datetime import date \n",
    "import mpl_toolkits.basemap as bm\n",
    "import matplotlib.animation as animation\n",
    "import numpy.ma as ma\n",
    "import matplotlib.cm as cm\n",
    "from matplotlib.patches import Polygon\n",
    "from scipy import signal, stats\n",
    "import time\n",
    "import cv2\n",
    "from mpl_toolkits.axes_grid1 import make_axes_locatable\n",
    "from matplotlib import gridspec\n",
    "import warnings; warnings.simplefilter('ignore')\n",
    "\n",
    "from functions import load_ice, trend, find_trends, plot_cartopy, decomp\n",
    "\n",
    "# input data directory\n",
    "\n",
    "path = Path('/extra-space1/data/tikoralukupload/cis-weekly/nc/')\n",
    "\n",
    "# 2021\n",
    "path2021 = Path('/extra-space1/data/tikoralukupload/cis-weekly/nc-for-May-2021-06-02')\n",
    "\n",
    "# region of interest\n",
    "region = 'HB'\n",
    "\n",
    "# Projection for mapping\n",
    "rot = ccrs.RotatedPole(pole_latitude=55,pole_longitude=150)\n",
    "\n",
    "# Construct the full file name\n",
    "fname = path / '{}.nc'.format(region)\n",
    "fname2021 = path2021 / '{}.nc'.format(region) # 2021\n",
    "\n",
    "### Load data into a `xarray.Dataset`:\n",
    "# Note that the data is loaded lazily which means that no actual data are actually written\n",
    "# into memory.\n",
    "# ds = xr.open_dataset(fname, decode_times=False)\n",
    "# ds2021 = xr.open_dataset(fname2021, decode_times=False)\n",
    "\n",
    "ds = xr.open_dataset(fname)\n",
    "ds2021 = xr.open_dataset(fname2021)\n",
    "\n",
    "juld = ds.juld\n",
    "juld2021 = ds2021.juld\n",
    "# Combine data structures\n",
    "juld = xr.concat([juld, juld2021], \"juld\")\n",
    "\n",
    "# subset `xarray.Dataset` by index\n",
    "# ds = ds.isel(x=slice(1700, None), y=slice(600, 1450))\n",
    "# ds2021 = ds2021.isel(x=slice(1700, None), y=slice(600, 1450))\n",
    "\n",
    "# Labrador shelf only\n",
    "ds = ds.isel(x=slice(1800, 2500), y=slice(800, 1450))\n",
    "ds2021 = ds2021.isel(x=slice(1800, 2500), y=slice(800, 1450))\n",
    "\n",
    "\n",
    "\n",
    "# create shortcuts to the variables. \n",
    "lon = ds.longitude\n",
    "lat = ds.latitude\n",
    "land = ds.land\n",
    "# E_FA = ds['E_FA']\n",
    "E_CTold = ds['E_CT']\n",
    "E_CT2021 = ds2021['E_CT']\n",
    "\n",
    "E_SAold = ds['E_SA']\n",
    "E_SA2021 = ds2021['E_SA']\n",
    "\n",
    "E_CT = xr.concat([E_CTold, E_CT2021], dim=\"juld\")\n",
    "E_SA = xr.concat([E_SAold, E_SA2021], dim=\"juld\")\n",
    "\n",
    "\n",
    "## Using N_CT\n",
    "N_CTold = ds['N_CT']\n",
    "N_CT2021 = ds2021['N_CT']\n",
    "\n",
    "N_CT = xr.concat([N_CTold, N_CT2021], dim=\"juld\")\n"
   ]
  },
  {
   "cell_type": "code",
   "execution_count": 31,
   "metadata": {
    "scrolled": true
   },
   "outputs": [],
   "source": [
    "### Decompose time series yearly\n",
    "\n",
    "# choose which metric to decompose \n",
    "def decompose_tseries(eggcode):\n",
    "    years = juld.dt.year\n",
    "    months = juld.dt.month\n",
    "\n",
    "    years_unique = np.unique(years)\n",
    "\n",
    "    # Clean out years\n",
    "    years_unique_clean = years_unique[np.array([4,9,10,12,13,14,15,16,17,18,19,20,21,22,23,24])]\n",
    " \n",
    "    \n",
    "    m = np.shape(lon)[0] # shape of lon\n",
    "    n = np.shape(lat)[1]\n",
    "    # Calculate monthly means and subtract them from time series\n",
    "    ybar = np.zeros((len(years_unique_clean),m,n))\n",
    "#     area_mean = np.zeros((len(years_unique_clean)))\n",
    "    darr=[]\n",
    "    year_occurences = []\n",
    "\n",
    "    cnt=0\n",
    "    for yr in years_unique_clean:\n",
    "        # Every year for the month defined by mon\n",
    "        which = (years == yr)\n",
    "        if np.sum(which) >= 1:\n",
    "            # Save all observational days of the month\n",
    "            inds = np.where(which)[0]\n",
    "    #         date_str.append(dates[k].strftime(\"%Y-%m-%d\"))\n",
    "            # yearly means\n",
    "            ybar[cnt,:,:] = np.nanmean(eggcode[inds,:,:],axis=0)\n",
    "            # Subtract mean from time series\n",
    "            darr.append(eggcode[inds,:,:] - np.nanmean(eggcode[inds,:,:],axis=0))\n",
    "            # Indices of dates within each month\n",
    "            year_occurences.append(juld[inds])\n",
    "            # Area of ice\n",
    "#             area_mean[cnt] = np.mean(np.count_nonzero(~np.isnan(eggcode[inds,:,:])))\n",
    "            cnt +=1\n",
    "\n",
    "\n",
    "    n = np.shape(lon)[1]\n",
    "    m = np.shape(lon)[0]\n",
    "\n",
    "    ### Calculate trends and anomolies\n",
    "    \n",
    "    ytrend = np.zeros((m,n))\n",
    "    dtrend_95 = np.zeros((m,n))\n",
    "    slope = np.zeros((m,n))\n",
    "    intercept = np.zeros((m,n))\n",
    "    \n",
    "    # Calculate trends along time axis\n",
    "    for i in range(m):\n",
    "        for j in range(n):\n",
    "            mean, tr, dt95 = trend(years_unique_clean, ybar[:,i,j])\n",
    "            ytrend[i,j] = tr\n",
    "            dtrend_95[i,j] = dt95\n",
    "            s,b = np.polyfit(years_unique_clean,ybar[:,i,j],1)\n",
    "            slope[i,j] = s\n",
    "            intercept[i,j] = b\n",
    "\n",
    "    k = len(years_unique_clean)\n",
    "    anom = np.zeros((k,m,n))\n",
    "    \n",
    "    ### Anomolies\n",
    "    \n",
    "    for i in range(m):\n",
    "        for j in range(n):\n",
    "            anom[:,i,j] = ybar[:,i,j] - (years_unique_clean*slope[i,j] + intercept[i,j]) \n",
    "\n",
    "    return ybar, ytrend, anom, years_unique_clean\n"
   ]
  },
  {
   "cell_type": "markdown",
   "metadata": {},
   "source": [
    "visualize domain"
   ]
  },
  {
   "cell_type": "code",
   "execution_count": 32,
   "metadata": {
    "scrolled": true
   },
   "outputs": [],
   "source": [
    "# Replace eggcode values for concentration with real values\n",
    "A = xr.where(N_CT>9, N_CT, N_CT/10)\n",
    "B = xr.where(N_CT==10, 0.95, A)\n",
    "CT = xr.where(N_CT==11, 1, B)\n",
    "\n",
    "# Replace eggcode values for thickness with real values\n",
    "A = xr.where(E_SA==1, 0.05, E_SA)\n",
    "B = xr.where(E_SA==4, 0.125, A)\n",
    "C = xr.where(E_SA==5, 0.225, B)\n",
    "D = xr.where(E_SA==7, 0.50, C)\n",
    "E = xr.where(E_SA==10, 0.95, D)\n",
    "F = xr.where(E_SA==11, 1.60, E)\n",
    "G = xr.where(E_SA==12, 2.50, F)\n",
    "HA = xr.where(E_SA>13, np.nan, G)"
   ]
  },
  {
   "cell_type": "markdown",
   "metadata": {},
   "source": [
    "Call function"
   ]
  },
  {
   "cell_type": "code",
   "execution_count": 33,
   "metadata": {
    "scrolled": true
   },
   "outputs": [
    {
     "ename": "NameError",
     "evalue": "name 'anom' is not defined",
     "output_type": "error",
     "traceback": [
      "\u001b[0;31m---------------------------------------------------------------------------\u001b[0m",
      "\u001b[0;31mNameError\u001b[0m                                 Traceback (most recent call last)",
      "\u001b[0;32m<ipython-input-33-7c704b48e769>\u001b[0m in \u001b[0;36m<module>\u001b[0;34m\u001b[0m\n\u001b[1;32m      2\u001b[0m \u001b[0;34m\u001b[0m\u001b[0m\n\u001b[1;32m      3\u001b[0m \u001b[0;31m# Check to see if anomolies are correct - mean should be 0\u001b[0m\u001b[0;34m\u001b[0m\u001b[0;34m\u001b[0m\u001b[0;34m\u001b[0m\u001b[0m\n\u001b[0;32m----> 4\u001b[0;31m \u001b[0mplt\u001b[0m\u001b[0;34m.\u001b[0m\u001b[0mpcolormesh\u001b[0m\u001b[0;34m(\u001b[0m\u001b[0mlon\u001b[0m\u001b[0;34m,\u001b[0m\u001b[0mlat\u001b[0m\u001b[0;34m,\u001b[0m\u001b[0mnp\u001b[0m\u001b[0;34m.\u001b[0m\u001b[0mnanmean\u001b[0m\u001b[0;34m(\u001b[0m\u001b[0manom\u001b[0m\u001b[0;34m,\u001b[0m \u001b[0maxis\u001b[0m\u001b[0;34m=\u001b[0m\u001b[0;36m0\u001b[0m\u001b[0;34m)\u001b[0m\u001b[0;34m,\u001b[0m\u001b[0mcmap\u001b[0m\u001b[0;34m=\u001b[0m\u001b[0;34m'RdBu'\u001b[0m\u001b[0;34m)\u001b[0m\u001b[0;34m\u001b[0m\u001b[0;34m\u001b[0m\u001b[0m\n\u001b[0m\u001b[1;32m      5\u001b[0m \u001b[0mplt\u001b[0m\u001b[0;34m.\u001b[0m\u001b[0mcolorbar\u001b[0m\u001b[0;34m(\u001b[0m\u001b[0;34m)\u001b[0m\u001b[0;34m\u001b[0m\u001b[0;34m\u001b[0m\u001b[0m\n",
      "\u001b[0;31mNameError\u001b[0m: name 'anom' is not defined"
     ]
    }
   ],
   "source": [
    "ybar_HA, ytrend_HA, anom_HA, years_unique = decompose_tseries(HA)\n",
    "\n",
    "# Check to see if anomolies are correct - mean should be 0\n",
    "plt.pcolormesh(lon,lat,np.nanmean(anom, axis=0),cmap='RdBu')\n",
    "plt.colorbar()"
   ]
  },
  {
   "cell_type": "code",
   "execution_count": null,
   "metadata": {
    "scrolled": false
   },
   "outputs": [],
   "source": [
    "# Plot yearly Anomolies\n",
    "\n",
    "cnt=1\n",
    "fig = plt.figure(figsize=(12,10), facecolor='white')\n",
    "for i in np.arange(0,len(years_unique)):\n",
    "    plt.subplot(5,5,cnt)\n",
    "    im = plt.pcolormesh(lon, lat, anom[i,:,:], cmap='RdBu', vmin=-0.5, vmax=0.5)\n",
    "#     im = plt.pcolormesh(lon, lat, ybar[i,:,:], cmap='RdBu')\n",
    "\n",
    "    plt.title(years_unique[i])\n",
    "#     plt.colorbar()\n",
    "    cnt+=1\n",
    "#     plt.axis('off')\n",
    "    plt.xticks([], [])\n",
    "    plt.yticks([], [])\n",
    "    \n",
    "fig.subplots_adjust(bottom=0.03, top=0.9, left=0.1, right=0.8,\n",
    "                    wspace=0.1, hspace=0.2)\n",
    "cb_ax = fig.add_axes([0.83, 0.08, 0.02, 0.8])\n",
    "cbar = fig.colorbar(im, cax=cb_ax)\n",
    "cbar.ax.tick_params(labelsize=15)\n",
    "cbar.set_label('Ice thickness anomolies [m]')\n",
    "# plt.tight_layout()\n",
    "# plt.savefig('/home/mwang/CIS-project/figures/Jun17_anom_maps_cleaned.png')"
   ]
  },
  {
   "cell_type": "code",
   "execution_count": null,
   "metadata": {},
   "outputs": [],
   "source": [
    "# Average thickness\n",
    "\n",
    "cnt=1\n",
    "fig = plt.figure(figsize=(12,10), facecolor='white')\n",
    "for i in np.arange(0,len(years_unique)):\n",
    "    plt.subplot(5,5,cnt)\n",
    "    im = plt.pcolormesh(lon, lat, ybar[i])\n",
    "#     im = plt.pcolormesh(lon, lat, ybar[i,:,:], cmap='RdBu')\n",
    "\n",
    "    plt.title(years_unique[i])\n",
    "#     plt.colorbar()\n",
    "    cnt+=1\n",
    "#     plt.axis('off')\n",
    "    plt.xticks([], [])\n",
    "    plt.yticks([], [])\n",
    "fig.subplots_adjust(bottom=0.03, top=0.9, left=0.1, right=0.8,\n",
    "                    wspace=0.1, hspace=0.2)\n",
    "cb_ax = fig.add_axes([0.83, 0.08, 0.02, 0.8])\n",
    "cbar = fig.colorbar(im, cax=cb_ax)\n",
    "cbar.ax.tick_params(labelsize=15)\n",
    "cbar.set_label('Average ice thickness [m]')\n",
    "# plt.tight_layout()\n",
    "# plt.savefig('/home/mwang/CIS-project/figures/Jun17_anom_maps_cleaned.png')"
   ]
  },
  {
   "cell_type": "markdown",
   "metadata": {},
   "source": [
    "# Plot overall trends"
   ]
  },
  {
   "cell_type": "code",
   "execution_count": 34,
   "metadata": {
    "scrolled": false
   },
   "outputs": [
    {
     "ename": "NameError",
     "evalue": "name 'ybar' is not defined",
     "output_type": "error",
     "traceback": [
      "\u001b[0;31m---------------------------------------------------------------------------\u001b[0m",
      "\u001b[0;31mNameError\u001b[0m                                 Traceback (most recent call last)",
      "\u001b[0;32m<ipython-input-34-2ef93bfb10f4>\u001b[0m in \u001b[0;36m<module>\u001b[0;34m\u001b[0m\n\u001b[1;32m      1\u001b[0m \u001b[0mfig\u001b[0m \u001b[0;34m=\u001b[0m \u001b[0mplt\u001b[0m\u001b[0;34m.\u001b[0m\u001b[0mfigure\u001b[0m\u001b[0;34m(\u001b[0m\u001b[0mfigsize\u001b[0m\u001b[0;34m=\u001b[0m\u001b[0;34m(\u001b[0m\u001b[0;36m10\u001b[0m\u001b[0;34m,\u001b[0m\u001b[0;36m7\u001b[0m\u001b[0;34m)\u001b[0m\u001b[0;34m,\u001b[0m \u001b[0mfacecolor\u001b[0m\u001b[0;34m=\u001b[0m\u001b[0;34m'white'\u001b[0m\u001b[0;34m)\u001b[0m\u001b[0;34m\u001b[0m\u001b[0;34m\u001b[0m\u001b[0m\n\u001b[1;32m      2\u001b[0m \u001b[0mymeans_clean\u001b[0m \u001b[0;34m=\u001b[0m \u001b[0mymeans\u001b[0m\u001b[0;34m[\u001b[0m\u001b[0mnp\u001b[0m\u001b[0;34m.\u001b[0m\u001b[0marray\u001b[0m\u001b[0;34m(\u001b[0m\u001b[0;34m[\u001b[0m\u001b[0;36m4\u001b[0m\u001b[0;34m,\u001b[0m\u001b[0;36m9\u001b[0m\u001b[0;34m,\u001b[0m\u001b[0;36m10\u001b[0m\u001b[0;34m,\u001b[0m\u001b[0;36m12\u001b[0m\u001b[0;34m,\u001b[0m\u001b[0;36m13\u001b[0m\u001b[0;34m,\u001b[0m\u001b[0;36m14\u001b[0m\u001b[0;34m,\u001b[0m\u001b[0;36m15\u001b[0m\u001b[0;34m,\u001b[0m\u001b[0;36m16\u001b[0m\u001b[0;34m,\u001b[0m\u001b[0;36m17\u001b[0m\u001b[0;34m,\u001b[0m\u001b[0;36m18\u001b[0m\u001b[0;34m,\u001b[0m\u001b[0;36m19\u001b[0m\u001b[0;34m,\u001b[0m\u001b[0;36m20\u001b[0m\u001b[0;34m,\u001b[0m\u001b[0;36m21\u001b[0m\u001b[0;34m,\u001b[0m\u001b[0;36m22\u001b[0m\u001b[0;34m,\u001b[0m\u001b[0;36m23\u001b[0m\u001b[0;34m,\u001b[0m\u001b[0;36m24\u001b[0m\u001b[0;34m]\u001b[0m\u001b[0;34m)\u001b[0m\u001b[0;34m]\u001b[0m\u001b[0;34m\u001b[0m\u001b[0;34m\u001b[0m\u001b[0m\n\u001b[0;32m----> 3\u001b[0;31m \u001b[0mymeans\u001b[0m \u001b[0;34m=\u001b[0m \u001b[0mnp\u001b[0m\u001b[0;34m.\u001b[0m\u001b[0mnanmean\u001b[0m\u001b[0;34m(\u001b[0m\u001b[0mnp\u001b[0m\u001b[0;34m.\u001b[0m\u001b[0mnanmean\u001b[0m\u001b[0;34m(\u001b[0m\u001b[0mybar\u001b[0m\u001b[0;34m,\u001b[0m \u001b[0maxis\u001b[0m\u001b[0;34m=\u001b[0m\u001b[0;36m1\u001b[0m\u001b[0;34m)\u001b[0m\u001b[0;34m,\u001b[0m\u001b[0maxis\u001b[0m\u001b[0;34m=\u001b[0m\u001b[0;36m1\u001b[0m\u001b[0;34m)\u001b[0m\u001b[0;34m\u001b[0m\u001b[0;34m\u001b[0m\u001b[0m\n\u001b[0m\u001b[1;32m      4\u001b[0m \u001b[0ms\u001b[0m\u001b[0;34m,\u001b[0m\u001b[0mb\u001b[0m \u001b[0;34m=\u001b[0m \u001b[0mnp\u001b[0m\u001b[0;34m.\u001b[0m\u001b[0mpolyfit\u001b[0m\u001b[0;34m(\u001b[0m\u001b[0myears_unique\u001b[0m\u001b[0;34m,\u001b[0m \u001b[0mymeans\u001b[0m\u001b[0;34m,\u001b[0m \u001b[0;36m1\u001b[0m\u001b[0;34m)\u001b[0m\u001b[0;34m\u001b[0m\u001b[0;34m\u001b[0m\u001b[0m\n\u001b[1;32m      5\u001b[0m \u001b[0;34m\u001b[0m\u001b[0m\n",
      "\u001b[0;31mNameError\u001b[0m: name 'ybar' is not defined"
     ]
    },
    {
     "data": {
      "text/plain": [
       "<Figure size 720x504 with 0 Axes>"
      ]
     },
     "metadata": {},
     "output_type": "display_data"
    }
   ],
   "source": [
    "fig = plt.figure(figsize=(10,7), facecolor='white')\n",
    "ymeans_clean = ymeans[np.array([4,9,10,12,13,14,15,16,17,18,19,20,21,22,23,24])]\n",
    "ymeans = np.nanmean(np.nanmean(ybar, axis=1),axis=1)\n",
    "s,b = np.polyfit(years_unique, ymeans, 1)\n",
    "\n",
    "# Remove years with no LF coded\n",
    "# years_unique_clean = years_unique[np.array([4,9,10,12,13,14,15,16,17,18,19,20,21,22,23,24])]\n",
    "# ymeans_clean = ymeans[np.array([4,9,10,12,13,14,15,16,17,18,19,20,21,22,23,24])]\n",
    "plt.plot(years_unique, ymeans, '.-')\n",
    "plt.plot(years_unique, years_unique*s + b)\n",
    "plt.xticks(years_unique,rotation='vertical', fontsize=13)\n",
    "# plt.plot(years_unique_clean, s*years_unique_clean + b, 'r-', label='Slope = ')\n",
    "plt.yticks(fontsize=13)\n",
    "plt.ylabel('Average thickness', fontsize=15)\n",
    "# plt.title('Average thickness (m)')\n",
    "# plt.savefig('/home/mwang/CIS-project/figures/Jun17_hA_tseries_cleaned_shelf.png', dpi=200)"
   ]
  },
  {
   "cell_type": "markdown",
   "metadata": {},
   "source": [
    "## Ice area"
   ]
  },
  {
   "cell_type": "code",
   "execution_count": 24,
   "metadata": {
    "scrolled": true
   },
   "outputs": [],
   "source": [
    "# Add up concentrations. ie) 0.5 means 0.5km coverage in 1 grid cell. \n",
    "cnt=0\n",
    "years = juld.dt.year\n",
    "area_mean = np.zeros(len(years_unique))\n",
    "for yr in years_unique:\n",
    "    # Every year for the month defined by mon\n",
    "    which = (years == yr)\n",
    "    if np.sum(which) >= 1:\n",
    "        inds = np.where(which)[0]\n",
    "        # Area of ice average over number of data days\n",
    "        area_mean[cnt] = CT[inds].sum()/len(inds)\n",
    "        cnt +=1\n"
   ]
  },
  {
   "cell_type": "markdown",
   "metadata": {},
   "source": [
    "## Area mean"
   ]
  },
  {
   "cell_type": "code",
   "execution_count": 28,
   "metadata": {},
   "outputs": [
    {
     "data": {
      "image/png": "[encoded data removed]",
      "text/plain": [
       "<Figure size 720x504 with 1 Axes>"
      ]
     },
     "metadata": {},
     "output_type": "display_data"
    }
   ],
   "source": [
    "eggcode = CT\n",
    "years_unique = np.unique(years)\n",
    "inds_clean = np.array([4,9,10,12,13,14,15,16,17,18,19,20,21,22,23,24])\n",
    "# Plot resampled data\n",
    "ice_year_mean = eggcode.resample(juld=\"AS-SEP\").mean(dim=\"juld\")\n",
    "# Mean of whole region\n",
    "ymeans = ice_year_mean.mean(dim=[\"x\", \"y\"])\n",
    "\n",
    "# Janky but do this until I can clean it in xarray\n",
    "# ymeans_clean = ymeans[inds_clean]\n",
    "# years_unique_clean = years_unique[inds_clean]\n",
    "\n",
    "fig = plt.figure(figsize=(10,7), facecolor='white')\n",
    "\n",
    "plt.plot(years_unique, area_mean, 'o-')\n",
    "plt.xticks(years_unique,rotation='vertical', fontsize=13)\n",
    "# plt.plot(years_unique_clean, s*years_unique_clean + b, 'r-', label='Slope = ')\n",
    "plt.yticks(fontsize=13)\n",
    "plt.ylabel(r'Average area of ice [$km^2$]', fontsize=15)\n",
    "# plt.savefig('/home/mwang/CIS/figures/Aug24_area_mean_jan.png', dpi=200)"
   ]
  },
  {
   "cell_type": "markdown",
   "metadata": {},
   "source": [
    "# Time series of anomolies"
   ]
  },
  {
   "cell_type": "code",
   "execution_count": 240,
   "metadata": {},
   "outputs": [
    {
     "data": {
      "text/plain": [
       "Text(0, 0.5, 'Average ice thickness anomaly [m]')"
      ]
     },
     "execution_count": 240,
     "metadata": {},
     "output_type": "execute_result"
    },
    {
     "data": {
      "image/png": "[encoded data removed]",
      "text/plain": [
       "<Figure size 720x504 with 1 Axes>"
      ]
     },
     "metadata": {},
     "output_type": "display_data"
    }
   ],
   "source": [
    "fig = plt.figure(figsize=(10,7), facecolor='white')\n",
    "anom_HA = ymeans - (s*years_unique+b)\n",
    "plt.plot(years_unique, anom_HA, 'ko-')\n",
    "plt.axhline(y=0, color='k', linestyle='--',alpha=0.5)\n",
    "plt.xticks(years_unique,rotation='vertical', fontsize=13)\n",
    "plt.ylabel('Average ice thickness anomaly [m]', fontsize=15)"
   ]
  },
  {
   "cell_type": "code",
   "execution_count": 142,
   "metadata": {},
   "outputs": [],
   "source": [
    "def plot_cartopy(ax, lon, lat):\n",
    "    '''\n",
    "    Set up the cartopy map with projection rotated so that Labrador coast is vertical. Input is the ax handle. \n",
    "    '''\n",
    "    #Declare the land and ocean parameters\n",
    "    LAND_highres = cartopy.feature.NaturalEarthFeature('physical', 'land', '10m',\n",
    "    edgecolor='black',\n",
    "    facecolor=('silver'),\n",
    "    linewidth=1)\n",
    "    OCEAN_highres = cartopy.feature.NaturalEarthFeature('physical', 'ocean', '10m',\n",
    "    facecolor='dimgrey')\n",
    "\n",
    "    #Declare the lat and lon boundaries for the map and data\n",
    "    domain = [99, 99, -99, -99]\n",
    "    domain[0] = np.min(lat) # South\n",
    "    domain[1] = np.min(lon) # West\n",
    "    domain[2] = np.max(lat) # North\n",
    "    domain[3] = np.max(lon) # East\n",
    "    #     domain = list(np.array(domain) + np.array([+1, +6, 0, -4]))\n",
    "    domain = [53.58105923668295, -61.30979545701268, 61.589404038199575, -56.47452933956656]\n",
    "    # domain = [55, -61.30979545701268, 59, -61]\n",
    "\n",
    "    aoi_map = [domain[0], domain[2], domain[1], domain[3]]\n",
    "    # Rotation for vertical coast\n",
    "    rot = ccrs.RotatedPole(pole_latitude=55,pole_longitude=150)\n",
    "\n",
    "#     # Plot results\n",
    "#     transform = rot.transform_points(rot,lon,lat)\n",
    "#     x_n = transform[...,0]\n",
    "#     y_n = transform[...,1]\n",
    "\n",
    "    ax.add_feature(LAND_highres,zorder=2)\n",
    "    ax.add_feature(OCEAN_highres,zorder=2)\n",
    "    ax.set_extent([aoi_map[2], aoi_map[3], aoi_map[0], aoi_map[1]])\n",
    "    ax.coastlines(resolution='10m',linewidth=0.35,zorder=4)\n",
    "    "
   ]
  },
  {
   "cell_type": "markdown",
   "metadata": {},
   "source": [
    "# Compare to surface air temp from ERA5"
   ]
  },
  {
   "cell_type": "code",
   "execution_count": 261,
   "metadata": {
    "scrolled": true
   },
   "outputs": [],
   "source": [
    "# Load SST yearly \n",
    "years = range(1997,2021)\n",
    "# Labrador shelf\n",
    "domain = [50, -65.5+360, 64, -50+360]\n",
    "t2mC_all_years = []\n",
    "path = Path('/home/oliver/data/ERA/ERA5/T2M/')\n",
    "\n",
    "\n",
    "for yr in years: \n",
    "    # Each nc file is one year\n",
    "    fname = path / 'ERA5_T2M_{}.nc'.format(yr)\n",
    "    ds = xr.open_dataset(fname)\n",
    "    # # Reduce domain to Labrador shelf. Latitude must be in reverse order\n",
    "    ds = ds.sel(latitude=slice(domain[2],domain[0]), longitude=slice(domain[1],domain[3]))\n",
    "    # Load variables\n",
    "    t2m = ds['t2m']\n",
    "    lont2m = ds['longitude']\n",
    "    latt2m = ds['latitude']\n",
    "    time = ds['time']\n",
    "    # Convert Kelvin to Celcius\n",
    "    t2mC = t2m-273.15\n",
    "    # Append mean of the year\n",
    "    t2mC_all_years.append(t2mC.mean(dim='time'))"
   ]
  },
  {
   "cell_type": "code",
   "execution_count": 289,
   "metadata": {
    "scrolled": true
   },
   "outputs": [],
   "source": [
    "# Plot trend of yearly avergae SST\n",
    "m = np.shape(t2mC_all_years)[1]\n",
    "n = np.shape(t2mC_all_years)[2]\n",
    "t2m_tr = np.zeros((m,n))\n",
    "dtrend_95 = np.zeros((m,n))\n",
    "ybar = np.zeros((m,n))\n",
    "\n",
    "for i in range(m):\n",
    "    for j in range(n):\n",
    "        mean, tr, dt95 = trend(np.array(years), np.array(t2mC_all_years)[:,i,j])\n",
    "        t2m_tr[i,j] = tr\n",
    "        dtrend_95[i,j] = dt95\n",
    "        ybar[i,j] = mean\n"
   ]
  },
  {
   "cell_type": "code",
   "execution_count": 1,
   "metadata": {},
   "outputs": [
    {
     "ename": "NameError",
     "evalue": "name 'plt' is not defined",
     "output_type": "error",
     "traceback": [
      "\u001b[0;31m---------------------------------------------------------------------------\u001b[0m",
      "\u001b[0;31mNameError\u001b[0m                                 Traceback (most recent call last)",
      "\u001b[0;32m<ipython-input-1-70df43b167de>\u001b[0m in \u001b[0;36m<module>\u001b[0;34m\u001b[0m\n\u001b[0;32m----> 1\u001b[0;31m \u001b[0mfig\u001b[0m \u001b[0;34m=\u001b[0m \u001b[0mplt\u001b[0m\u001b[0;34m.\u001b[0m\u001b[0mfigure\u001b[0m\u001b[0;34m(\u001b[0m\u001b[0mfigsize\u001b[0m\u001b[0;34m=\u001b[0m\u001b[0;34m(\u001b[0m\u001b[0;36m12\u001b[0m\u001b[0;34m,\u001b[0m\u001b[0;36m8\u001b[0m\u001b[0;34m)\u001b[0m\u001b[0;34m,\u001b[0m\u001b[0mfacecolor\u001b[0m\u001b[0;34m=\u001b[0m\u001b[0;34m'white'\u001b[0m\u001b[0;34m)\u001b[0m\u001b[0;34m\u001b[0m\u001b[0;34m\u001b[0m\u001b[0m\n\u001b[0m\u001b[1;32m      2\u001b[0m \u001b[0max\u001b[0m \u001b[0;34m=\u001b[0m \u001b[0mfig\u001b[0m\u001b[0;34m.\u001b[0m\u001b[0madd_subplot\u001b[0m\u001b[0;34m(\u001b[0m\u001b[0;36m111\u001b[0m\u001b[0;34m,\u001b[0m \u001b[0mprojection\u001b[0m\u001b[0;34m=\u001b[0m\u001b[0mrot\u001b[0m\u001b[0;34m)\u001b[0m\u001b[0;34m\u001b[0m\u001b[0;34m\u001b[0m\u001b[0m\n\u001b[1;32m      3\u001b[0m \u001b[0;34m\u001b[0m\u001b[0m\n\u001b[1;32m      4\u001b[0m \u001b[0;31m#Declare the land and ocean parameters\u001b[0m\u001b[0;34m\u001b[0m\u001b[0;34m\u001b[0m\u001b[0;34m\u001b[0m\u001b[0m\n\u001b[1;32m      5\u001b[0m LAND_highres = cartopy.feature.NaturalEarthFeature('physical', 'land', '10m',\n",
      "\u001b[0;31mNameError\u001b[0m: name 'plt' is not defined"
     ]
    }
   ],
   "source": [
    "fig = plt.figure(figsize=(12,8),facecolor='white')\n",
    "ax = fig.add_subplot(111, projection=rot)\n",
    "\n",
    "#Declare the land and ocean parameters\n",
    "LAND_highres = cartopy.feature.NaturalEarthFeature('physical', 'land', '10m',\n",
    "edgecolor='black',\n",
    "facecolor=('silver'),\n",
    "linewidth=1)\n",
    "# OCEAN_highres = cartopy.feature.NaturalEarthFeature('physical', 'ocean', '10m',\n",
    "# facecolor='dimgrey')\n",
    "\n",
    "#Declare the lat and lon boundaries for the map and data\n",
    "domain = [99, 99, -99, -99]\n",
    "domain[0] = np.min(lat) # South\n",
    "domain[1] = np.min(lon) # West\n",
    "domain[2] = np.max(lat) # North\n",
    "domain[3] = np.max(lon) # East\n",
    "#     domain = list(np.array(domain) + np.array([+1, +6, 0, -4]))\n",
    "domain = [53.58105923668295, -61.30979545701268, 61.589404038199575, -56.47452933956656]\n",
    "# domain = [55, -61.30979545701268, 59, -61]\n",
    "\n",
    "aoi_map = [domain[0], domain[2], domain[1], domain[3]]\n",
    "# Rotation for vertical coast\n",
    "rot = ccrs.RotatedPole(pole_latitude=55,pole_longitude=150)\n",
    "\n",
    "ax.set_extent([aoi_map[2], aoi_map[3], aoi_map[0], aoi_map[1]])\n",
    "ax.coastlines(resolution='10m',linewidth=1,zorder=4)\n",
    "\n",
    "\n",
    "plt.pcolormesh(lont2m,latt2m,t2m_tr,transform=ccrs.PlateCarree(),zorder=2)\n",
    "cbar = plt.colorbar()\n",
    "cbar.ax.tick_params(labelsize=15)\n",
    "cbar.set_label(r'$^o$C/year',fontsize=15)\n",
    "plt.title('Average yearly surface air temp trend 1997-2021',fontsize=14)\n",
    "# plt.savefig('/home/mwang/CIS-project/figures/Jul22_SST_trend.png')"
   ]
  },
  {
   "cell_type": "markdown",
   "metadata": {},
   "source": []
  },
  {
   "cell_type": "markdown",
   "metadata": {},
   "source": [
    "Time series of SST average for whole region\n"
   ]
  }
 ],
 "metadata": {
  "kernelspec": {
   "display_name": "Python 3",
   "language": "python",
   "name": "python3"
  },
  "language_info": {
   "codemirror_mode": {
    "name": "ipython",
    "version": 3
   },
   "file_extension": ".py",
   "mimetype": "text/x-python",
   "name": "python",
   "nbconvert_exporter": "python",
   "pygments_lexer": "ipython3",
   "version": "3.9.1"
  }
 },
 "nbformat": 4,
 "nbformat_minor": 4
}
