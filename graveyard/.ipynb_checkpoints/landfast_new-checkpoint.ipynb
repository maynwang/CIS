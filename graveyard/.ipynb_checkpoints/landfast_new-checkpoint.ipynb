{
 "cells": [
  {
   "cell_type": "markdown",
   "metadata": {},
   "source": [
    "# Updated algorithm for determining LF ice edge"
   ]
  },
  {
   "cell_type": "code",
   "execution_count": 2,
   "metadata": {},
   "outputs": [
    {
     "ename": "ModuleNotFoundError",
     "evalue": "No module named 'functions'",
     "output_type": "error",
     "traceback": [
      "\u001b[0;31m---------------------------------------------------------------------------\u001b[0m",
      "\u001b[0;31mModuleNotFoundError\u001b[0m                       Traceback (most recent call last)",
      "\u001b[0;32m<ipython-input-2-63282550db7a>\u001b[0m in \u001b[0;36m<module>\u001b[0;34m\u001b[0m\n\u001b[1;32m     21\u001b[0m \u001b[0;32mimport\u001b[0m \u001b[0mwarnings\u001b[0m\u001b[0;34m;\u001b[0m \u001b[0mwarnings\u001b[0m\u001b[0;34m.\u001b[0m\u001b[0msimplefilter\u001b[0m\u001b[0;34m(\u001b[0m\u001b[0;34m'ignore'\u001b[0m\u001b[0;34m)\u001b[0m\u001b[0;34m\u001b[0m\u001b[0;34m\u001b[0m\u001b[0m\n\u001b[1;32m     22\u001b[0m \u001b[0;32mimport\u001b[0m \u001b[0mseaborn\u001b[0m \u001b[0;32mas\u001b[0m \u001b[0msns\u001b[0m\u001b[0;34m\u001b[0m\u001b[0;34m\u001b[0m\u001b[0m\n\u001b[0;32m---> 23\u001b[0;31m \u001b[0;32mfrom\u001b[0m \u001b[0mfunctions\u001b[0m \u001b[0;32mimport\u001b[0m \u001b[0mtrend\u001b[0m\u001b[0;34m,\u001b[0m \u001b[0mload_ice\u001b[0m\u001b[0;34m,\u001b[0m \u001b[0mplot_cartopy\u001b[0m\u001b[0;34m\u001b[0m\u001b[0;34m\u001b[0m\u001b[0m\n\u001b[0m\u001b[1;32m     24\u001b[0m \u001b[0;32mfrom\u001b[0m \u001b[0mmatplotlib\u001b[0m \u001b[0;32mimport\u001b[0m \u001b[0mgridspec\u001b[0m\u001b[0;34m\u001b[0m\u001b[0;34m\u001b[0m\u001b[0m\n\u001b[1;32m     25\u001b[0m \u001b[0;34m\u001b[0m\u001b[0m\n",
      "\u001b[0;31mModuleNotFoundError\u001b[0m: No module named 'functions'"
     ]
    }
   ],
   "source": [
    "import numpy as np \n",
    "import cartopy\n",
    "import cartopy.crs as ccrs\n",
    "import matplotlib\n",
    "matplotlib.interactive(True)\n",
    "import cmocean\n",
    "from netCDF4 import Dataset\n",
    "import glob\n",
    "import matplotlib.pyplot as plt\n",
    "import datetime \n",
    "from datetime import date \n",
    "import mpl_toolkits.basemap as bm\n",
    "import matplotlib.animation as animation\n",
    "import numpy.ma as ma\n",
    "import matplotlib.cm as cm\n",
    "from matplotlib.patches import Polygon\n",
    "from scipy import signal, stats\n",
    "import time\n",
    "from scipy.interpolate import interp1d\n",
    "from mpl_toolkits.axes_grid1 import make_axes_locatable\n",
    "import warnings; warnings.simplefilter('ignore')\n",
    "import seaborn as sns\n",
    "from functions import trend, load_ice, plot_cartopy\n",
    "from matplotlib import gridspec\n",
    "\n",
    "# %matplotlib notebook"
   ]
  },
  {
   "cell_type": "code",
   "execution_count": null,
   "metadata": {},
   "outputs": [],
   "source": [
    "path = '/extra-space1/data/tikoralukupload/cis-weekly/nc/'\n",
    "region = 'HB'\n",
    "\n",
    "# Projection for mapping\n",
    "rot = ccrs.RotatedPole(pole_latitude=55,pole_longitude=150)\n",
    "\n",
    "# Read in data\n",
    "nc = Dataset(path + region + '.nc', 'r')\n",
    "lon = nc.variables['longitude'][600:1450,1700:]\n",
    "lat = nc.variables['latitude'][600:1450,1700:]\n",
    "juld = nc.variables['juld'][:]\n",
    "land = nc.variables['land'][:][600:1450,1700:]\n",
    "E_CT = nc.variables['E_CT'][:,600:1450,1700:]       \n",
    "\n",
    "CT = np.nan*np.ones(E_CT.shape)\n",
    "CT[E_CT==1] = 10\n",
    "CT[E_CT==2] = 20\n",
    "CT[E_CT==3] = 30\n",
    "CT[E_CT==4] = 40\n",
    "CT[E_CT==5] = 50\n",
    "CT[E_CT==6] = 60\n",
    "CT[E_CT==7] = 70\n",
    "CT[E_CT==8] = 80\n",
    "CT[E_CT==9] = 90\n",
    "CT[E_CT==10] = 95\n",
    "CT[E_CT==11] = 100\n",
    "\n",
    "\n",
    "# Date time information\n",
    "d0ord = date(1950,1,1).toordinal()\n",
    "dt_ordinal = d0ord + juld\n",
    "dates = [date.fromordinal(dt_ordinal[tt]) for tt in range(len(juld))]\n",
    "months = [dates[tt].month for tt in range(len(juld))]\n",
    "years = [dates[tt].year for tt in range(len(juld))]\n",
    "months_unique = np.unique(months)\n",
    "years_unique = np.unique(years)"
   ]
  },
  {
   "cell_type": "code",
   "execution_count": null,
   "metadata": {},
   "outputs": [],
   "source": [
    "### Updated algorithm for finding Sina\n",
    "\n",
    "m = np.shape(CT)[2]\n",
    "n = np.shape(CT)[1]\n",
    "\n",
    "ind_i = np.zeros((m))\n",
    "ind_j = np.zeros((m))\n",
    "\n",
    "# inds = np.zeros((n,m))\n",
    "# ind_i = []\n",
    "# ind_j = []\n",
    "\n",
    "\n",
    "# Mask lon and lat to get land               \n",
    "ma_lon = ma.masked_array(lon, mask=land)\n",
    "ma_lat = ma.masked_array(lat, mask=land)\n",
    "\n",
    "\n",
    "# for yr in years_unique:\n",
    "    # Every year for the month defined by mon\n",
    "#     which = (years == yr) * (np.array(months) == 3)\n",
    "\n",
    "#     if np.sum(which) >= 1:\n",
    "#         tt = np.where(which)[0][0]\n",
    "\n",
    "for i in range(m):\n",
    "    for j in range(n):\n",
    "        # Is there landfast ice in row i? \n",
    "        if 100.0 in CT[tt,:,i]:\n",
    "            ind_i[i] = i\n",
    "            # jth index is the outermost point of LF ice for row i\n",
    "            ind_j[i] = np.where(CT[tt,:,i]==100.0)[0][0]\n",
    "            break\n",
    "        # If LF ice not present, then store land index instead\n",
    "        elif 100.0 not in CT[tt,:,i]:\n",
    "            if ma_lon[:,i].count() !=0: \n",
    "            # Find last index of non-masked value. Interpet that as coastline edge. Index i is in along shore direction, and j is in across shore direction. Thus, append i as is but find j \n",
    "                ind_i[i] = i\n",
    "                ind_j[i] = ma.notmasked_edges(ma_lon[:,i])[1]\n",
    "                break\n",
    "            else:\n",
    "                # If array is completely masked (it's all land), save index as false and deal with it later\n",
    "                ind_i[i] = i\n",
    "                ind_j[i] = False\n",
    "                break\n",
    "\n",
    "ind_i = ind_i.astype(int)\n",
    "ind_j = ind_j.astype(int)"
   ]
  },
  {
   "cell_type": "code",
   "execution_count": null,
   "metadata": {},
   "outputs": [],
   "source": [
    "plt.figure(figsize=(10,8))\n",
    "plt.pcolormesh(lon,lat,CT[tt,:,:])\n",
    "\n",
    "plt.plot(lon[ind_j,ind_i],lat[ind_j,ind_i],'.-')\n",
    "# plt.plot(lon[ii],lat[ii],'.')\n",
    "# plt.plot(lon[ind_noLF_i,ind_noLF_j],lat[ind_noLF_i,ind_noLF_j],'r')\n",
    "plt.colorbar()"
   ]
  },
  {
   "cell_type": "code",
   "execution_count": null,
   "metadata": {},
   "outputs": [],
   "source": []
  }
 ],
 "metadata": {
  "kernelspec": {
   "display_name": "Python 3",
   "language": "python",
   "name": "python3"
  },
  "language_info": {
   "codemirror_mode": {
    "name": "ipython",
    "version": 3
   },
   "file_extension": ".py",
   "mimetype": "text/x-python",
   "name": "python",
   "nbconvert_exporter": "python",
   "pygments_lexer": "ipython3",
   "version": "3.9.1"
  }
 },
 "nbformat": 4,
 "nbformat_minor": 4
}
